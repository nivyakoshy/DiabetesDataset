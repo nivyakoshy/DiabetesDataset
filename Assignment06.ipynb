{
  "nbformat": 4,
  "nbformat_minor": 0,
  "metadata": {
    "colab": {
      "provenance": [],
      "authorship_tag": "ABX9TyO3JZjpL/w9hcV/IZw27AKr"
    },
    "kernelspec": {
      "name": "python3",
      "display_name": "Python 3"
    },
    "language_info": {
      "name": "python"
    }
  },
  "cells": [
    {
      "cell_type": "markdown",
      "source": [
        "Import Libraries"
      ],
      "metadata": {
        "id": "_lFJwEhQ1PFS"
      }
    },
    {
      "cell_type": "code",
      "execution_count": 2,
      "metadata": {
        "id": "a57nucTk0767"
      },
      "outputs": [],
      "source": [
        "import pandas as pd\n",
        "from sklearn.model_selection import train_test_split\n",
        "from sklearn.preprocessing import StandardScaler\n",
        "from sklearn.preprocessing import LabelEncoder\n",
        "from sklearn.metrics import classification_report\n",
        "from keras.models import Sequential\n",
        "from keras.layers import Dense\n",
        "from sklearn.model_selection import GridSearchCV"
      ]
    },
    {
      "cell_type": "markdown",
      "source": [
        "Data Analysis"
      ],
      "metadata": {
        "id": "P_5TfEOe1zsb"
      }
    },
    {
      "cell_type": "code",
      "source": [
        "data = pd.read_csv('mobile_price_classification.csv')"
      ],
      "metadata": {
        "id": "73wYy09o1Z43"
      },
      "execution_count": 3,
      "outputs": []
    },
    {
      "cell_type": "code",
      "source": [
        "data.head()"
      ],
      "metadata": {
        "colab": {
          "base_uri": "https://localhost:8080/",
          "height": 256
        },
        "id": "rtH6hoKt1s4M",
        "outputId": "717f5bef-acdd-419a-f225-4f6cda4527f4"
      },
      "execution_count": 4,
      "outputs": [
        {
          "output_type": "execute_result",
          "data": {
            "text/plain": [
              "   battery_power  bluetooth  clock_speed  dual_sim  front_cam  4G  int_memory  \\\n",
              "0            842          0          2.2         0          1   0           7   \n",
              "1           1021          1          0.5         1          0   1          53   \n",
              "2            563          1          0.5         1          2   1          41   \n",
              "3            615          1          2.5         0          0   0          10   \n",
              "4           1821          1          1.2         0         13   1          44   \n",
              "\n",
              "   m_dep  mobile_wt  n_cores  ...  px_height  px_width   ram  sc_h  sc_w  \\\n",
              "0    0.6        188        2  ...         20       756  2549     9     7   \n",
              "1    0.7        136        3  ...        905      1988  2631    17     3   \n",
              "2    0.9        145        5  ...       1263      1716  2603    11     2   \n",
              "3    0.8        131        6  ...       1216      1786  2769    16     8   \n",
              "4    0.6        141        2  ...       1208      1212  1411     8     2   \n",
              "\n",
              "   talk_time  three_g  touch_screen  wifi  price_range  \n",
              "0         19        0             0     1            1  \n",
              "1          7        1             1     0            2  \n",
              "2          9        1             1     0            2  \n",
              "3         11        1             0     0            2  \n",
              "4         15        1             1     0            1  \n",
              "\n",
              "[5 rows x 21 columns]"
            ],
            "text/html": [
              "\n",
              "  <div id=\"df-e793010d-4af7-45f1-978e-cd9a8b1bfc3f\" class=\"colab-df-container\">\n",
              "    <div>\n",
              "<style scoped>\n",
              "    .dataframe tbody tr th:only-of-type {\n",
              "        vertical-align: middle;\n",
              "    }\n",
              "\n",
              "    .dataframe tbody tr th {\n",
              "        vertical-align: top;\n",
              "    }\n",
              "\n",
              "    .dataframe thead th {\n",
              "        text-align: right;\n",
              "    }\n",
              "</style>\n",
              "<table border=\"1\" class=\"dataframe\">\n",
              "  <thead>\n",
              "    <tr style=\"text-align: right;\">\n",
              "      <th></th>\n",
              "      <th>battery_power</th>\n",
              "      <th>bluetooth</th>\n",
              "      <th>clock_speed</th>\n",
              "      <th>dual_sim</th>\n",
              "      <th>front_cam</th>\n",
              "      <th>4G</th>\n",
              "      <th>int_memory</th>\n",
              "      <th>m_dep</th>\n",
              "      <th>mobile_wt</th>\n",
              "      <th>n_cores</th>\n",
              "      <th>...</th>\n",
              "      <th>px_height</th>\n",
              "      <th>px_width</th>\n",
              "      <th>ram</th>\n",
              "      <th>sc_h</th>\n",
              "      <th>sc_w</th>\n",
              "      <th>talk_time</th>\n",
              "      <th>three_g</th>\n",
              "      <th>touch_screen</th>\n",
              "      <th>wifi</th>\n",
              "      <th>price_range</th>\n",
              "    </tr>\n",
              "  </thead>\n",
              "  <tbody>\n",
              "    <tr>\n",
              "      <th>0</th>\n",
              "      <td>842</td>\n",
              "      <td>0</td>\n",
              "      <td>2.2</td>\n",
              "      <td>0</td>\n",
              "      <td>1</td>\n",
              "      <td>0</td>\n",
              "      <td>7</td>\n",
              "      <td>0.6</td>\n",
              "      <td>188</td>\n",
              "      <td>2</td>\n",
              "      <td>...</td>\n",
              "      <td>20</td>\n",
              "      <td>756</td>\n",
              "      <td>2549</td>\n",
              "      <td>9</td>\n",
              "      <td>7</td>\n",
              "      <td>19</td>\n",
              "      <td>0</td>\n",
              "      <td>0</td>\n",
              "      <td>1</td>\n",
              "      <td>1</td>\n",
              "    </tr>\n",
              "    <tr>\n",
              "      <th>1</th>\n",
              "      <td>1021</td>\n",
              "      <td>1</td>\n",
              "      <td>0.5</td>\n",
              "      <td>1</td>\n",
              "      <td>0</td>\n",
              "      <td>1</td>\n",
              "      <td>53</td>\n",
              "      <td>0.7</td>\n",
              "      <td>136</td>\n",
              "      <td>3</td>\n",
              "      <td>...</td>\n",
              "      <td>905</td>\n",
              "      <td>1988</td>\n",
              "      <td>2631</td>\n",
              "      <td>17</td>\n",
              "      <td>3</td>\n",
              "      <td>7</td>\n",
              "      <td>1</td>\n",
              "      <td>1</td>\n",
              "      <td>0</td>\n",
              "      <td>2</td>\n",
              "    </tr>\n",
              "    <tr>\n",
              "      <th>2</th>\n",
              "      <td>563</td>\n",
              "      <td>1</td>\n",
              "      <td>0.5</td>\n",
              "      <td>1</td>\n",
              "      <td>2</td>\n",
              "      <td>1</td>\n",
              "      <td>41</td>\n",
              "      <td>0.9</td>\n",
              "      <td>145</td>\n",
              "      <td>5</td>\n",
              "      <td>...</td>\n",
              "      <td>1263</td>\n",
              "      <td>1716</td>\n",
              "      <td>2603</td>\n",
              "      <td>11</td>\n",
              "      <td>2</td>\n",
              "      <td>9</td>\n",
              "      <td>1</td>\n",
              "      <td>1</td>\n",
              "      <td>0</td>\n",
              "      <td>2</td>\n",
              "    </tr>\n",
              "    <tr>\n",
              "      <th>3</th>\n",
              "      <td>615</td>\n",
              "      <td>1</td>\n",
              "      <td>2.5</td>\n",
              "      <td>0</td>\n",
              "      <td>0</td>\n",
              "      <td>0</td>\n",
              "      <td>10</td>\n",
              "      <td>0.8</td>\n",
              "      <td>131</td>\n",
              "      <td>6</td>\n",
              "      <td>...</td>\n",
              "      <td>1216</td>\n",
              "      <td>1786</td>\n",
              "      <td>2769</td>\n",
              "      <td>16</td>\n",
              "      <td>8</td>\n",
              "      <td>11</td>\n",
              "      <td>1</td>\n",
              "      <td>0</td>\n",
              "      <td>0</td>\n",
              "      <td>2</td>\n",
              "    </tr>\n",
              "    <tr>\n",
              "      <th>4</th>\n",
              "      <td>1821</td>\n",
              "      <td>1</td>\n",
              "      <td>1.2</td>\n",
              "      <td>0</td>\n",
              "      <td>13</td>\n",
              "      <td>1</td>\n",
              "      <td>44</td>\n",
              "      <td>0.6</td>\n",
              "      <td>141</td>\n",
              "      <td>2</td>\n",
              "      <td>...</td>\n",
              "      <td>1208</td>\n",
              "      <td>1212</td>\n",
              "      <td>1411</td>\n",
              "      <td>8</td>\n",
              "      <td>2</td>\n",
              "      <td>15</td>\n",
              "      <td>1</td>\n",
              "      <td>1</td>\n",
              "      <td>0</td>\n",
              "      <td>1</td>\n",
              "    </tr>\n",
              "  </tbody>\n",
              "</table>\n",
              "<p>5 rows × 21 columns</p>\n",
              "</div>\n",
              "    <div class=\"colab-df-buttons\">\n",
              "\n",
              "  <div class=\"colab-df-container\">\n",
              "    <button class=\"colab-df-convert\" onclick=\"convertToInteractive('df-e793010d-4af7-45f1-978e-cd9a8b1bfc3f')\"\n",
              "            title=\"Convert this dataframe to an interactive table.\"\n",
              "            style=\"display:none;\">\n",
              "\n",
              "  <svg xmlns=\"http://www.w3.org/2000/svg\" height=\"24px\" viewBox=\"0 -960 960 960\">\n",
              "    <path d=\"M120-120v-720h720v720H120Zm60-500h600v-160H180v160Zm220 220h160v-160H400v160Zm0 220h160v-160H400v160ZM180-400h160v-160H180v160Zm440 0h160v-160H620v160ZM180-180h160v-160H180v160Zm440 0h160v-160H620v160Z\"/>\n",
              "  </svg>\n",
              "    </button>\n",
              "\n",
              "  <style>\n",
              "    .colab-df-container {\n",
              "      display:flex;\n",
              "      gap: 12px;\n",
              "    }\n",
              "\n",
              "    .colab-df-convert {\n",
              "      background-color: #E8F0FE;\n",
              "      border: none;\n",
              "      border-radius: 50%;\n",
              "      cursor: pointer;\n",
              "      display: none;\n",
              "      fill: #1967D2;\n",
              "      height: 32px;\n",
              "      padding: 0 0 0 0;\n",
              "      width: 32px;\n",
              "    }\n",
              "\n",
              "    .colab-df-convert:hover {\n",
              "      background-color: #E2EBFA;\n",
              "      box-shadow: 0px 1px 2px rgba(60, 64, 67, 0.3), 0px 1px 3px 1px rgba(60, 64, 67, 0.15);\n",
              "      fill: #174EA6;\n",
              "    }\n",
              "\n",
              "    .colab-df-buttons div {\n",
              "      margin-bottom: 4px;\n",
              "    }\n",
              "\n",
              "    [theme=dark] .colab-df-convert {\n",
              "      background-color: #3B4455;\n",
              "      fill: #D2E3FC;\n",
              "    }\n",
              "\n",
              "    [theme=dark] .colab-df-convert:hover {\n",
              "      background-color: #434B5C;\n",
              "      box-shadow: 0px 1px 3px 1px rgba(0, 0, 0, 0.15);\n",
              "      filter: drop-shadow(0px 1px 2px rgba(0, 0, 0, 0.3));\n",
              "      fill: #FFFFFF;\n",
              "    }\n",
              "  </style>\n",
              "\n",
              "    <script>\n",
              "      const buttonEl =\n",
              "        document.querySelector('#df-e793010d-4af7-45f1-978e-cd9a8b1bfc3f button.colab-df-convert');\n",
              "      buttonEl.style.display =\n",
              "        google.colab.kernel.accessAllowed ? 'block' : 'none';\n",
              "\n",
              "      async function convertToInteractive(key) {\n",
              "        const element = document.querySelector('#df-e793010d-4af7-45f1-978e-cd9a8b1bfc3f');\n",
              "        const dataTable =\n",
              "          await google.colab.kernel.invokeFunction('convertToInteractive',\n",
              "                                                    [key], {});\n",
              "        if (!dataTable) return;\n",
              "\n",
              "        const docLinkHtml = 'Like what you see? Visit the ' +\n",
              "          '<a target=\"_blank\" href=https://colab.research.google.com/notebooks/data_table.ipynb>data table notebook</a>'\n",
              "          + ' to learn more about interactive tables.';\n",
              "        element.innerHTML = '';\n",
              "        dataTable['output_type'] = 'display_data';\n",
              "        await google.colab.output.renderOutput(dataTable, element);\n",
              "        const docLink = document.createElement('div');\n",
              "        docLink.innerHTML = docLinkHtml;\n",
              "        element.appendChild(docLink);\n",
              "      }\n",
              "    </script>\n",
              "  </div>\n",
              "\n",
              "\n",
              "<div id=\"df-77d417c1-20f2-4660-9764-73f0a1901fe3\">\n",
              "  <button class=\"colab-df-quickchart\" onclick=\"quickchart('df-77d417c1-20f2-4660-9764-73f0a1901fe3')\"\n",
              "            title=\"Suggest charts\"\n",
              "            style=\"display:none;\">\n",
              "\n",
              "<svg xmlns=\"http://www.w3.org/2000/svg\" height=\"24px\"viewBox=\"0 0 24 24\"\n",
              "     width=\"24px\">\n",
              "    <g>\n",
              "        <path d=\"M19 3H5c-1.1 0-2 .9-2 2v14c0 1.1.9 2 2 2h14c1.1 0 2-.9 2-2V5c0-1.1-.9-2-2-2zM9 17H7v-7h2v7zm4 0h-2V7h2v10zm4 0h-2v-4h2v4z\"/>\n",
              "    </g>\n",
              "</svg>\n",
              "  </button>\n",
              "\n",
              "<style>\n",
              "  .colab-df-quickchart {\n",
              "      --bg-color: #E8F0FE;\n",
              "      --fill-color: #1967D2;\n",
              "      --hover-bg-color: #E2EBFA;\n",
              "      --hover-fill-color: #174EA6;\n",
              "      --disabled-fill-color: #AAA;\n",
              "      --disabled-bg-color: #DDD;\n",
              "  }\n",
              "\n",
              "  [theme=dark] .colab-df-quickchart {\n",
              "      --bg-color: #3B4455;\n",
              "      --fill-color: #D2E3FC;\n",
              "      --hover-bg-color: #434B5C;\n",
              "      --hover-fill-color: #FFFFFF;\n",
              "      --disabled-bg-color: #3B4455;\n",
              "      --disabled-fill-color: #666;\n",
              "  }\n",
              "\n",
              "  .colab-df-quickchart {\n",
              "    background-color: var(--bg-color);\n",
              "    border: none;\n",
              "    border-radius: 50%;\n",
              "    cursor: pointer;\n",
              "    display: none;\n",
              "    fill: var(--fill-color);\n",
              "    height: 32px;\n",
              "    padding: 0;\n",
              "    width: 32px;\n",
              "  }\n",
              "\n",
              "  .colab-df-quickchart:hover {\n",
              "    background-color: var(--hover-bg-color);\n",
              "    box-shadow: 0 1px 2px rgba(60, 64, 67, 0.3), 0 1px 3px 1px rgba(60, 64, 67, 0.15);\n",
              "    fill: var(--button-hover-fill-color);\n",
              "  }\n",
              "\n",
              "  .colab-df-quickchart-complete:disabled,\n",
              "  .colab-df-quickchart-complete:disabled:hover {\n",
              "    background-color: var(--disabled-bg-color);\n",
              "    fill: var(--disabled-fill-color);\n",
              "    box-shadow: none;\n",
              "  }\n",
              "\n",
              "  .colab-df-spinner {\n",
              "    border: 2px solid var(--fill-color);\n",
              "    border-color: transparent;\n",
              "    border-bottom-color: var(--fill-color);\n",
              "    animation:\n",
              "      spin 1s steps(1) infinite;\n",
              "  }\n",
              "\n",
              "  @keyframes spin {\n",
              "    0% {\n",
              "      border-color: transparent;\n",
              "      border-bottom-color: var(--fill-color);\n",
              "      border-left-color: var(--fill-color);\n",
              "    }\n",
              "    20% {\n",
              "      border-color: transparent;\n",
              "      border-left-color: var(--fill-color);\n",
              "      border-top-color: var(--fill-color);\n",
              "    }\n",
              "    30% {\n",
              "      border-color: transparent;\n",
              "      border-left-color: var(--fill-color);\n",
              "      border-top-color: var(--fill-color);\n",
              "      border-right-color: var(--fill-color);\n",
              "    }\n",
              "    40% {\n",
              "      border-color: transparent;\n",
              "      border-right-color: var(--fill-color);\n",
              "      border-top-color: var(--fill-color);\n",
              "    }\n",
              "    60% {\n",
              "      border-color: transparent;\n",
              "      border-right-color: var(--fill-color);\n",
              "    }\n",
              "    80% {\n",
              "      border-color: transparent;\n",
              "      border-right-color: var(--fill-color);\n",
              "      border-bottom-color: var(--fill-color);\n",
              "    }\n",
              "    90% {\n",
              "      border-color: transparent;\n",
              "      border-bottom-color: var(--fill-color);\n",
              "    }\n",
              "  }\n",
              "</style>\n",
              "\n",
              "  <script>\n",
              "    async function quickchart(key) {\n",
              "      const quickchartButtonEl =\n",
              "        document.querySelector('#' + key + ' button');\n",
              "      quickchartButtonEl.disabled = true;  // To prevent multiple clicks.\n",
              "      quickchartButtonEl.classList.add('colab-df-spinner');\n",
              "      try {\n",
              "        const charts = await google.colab.kernel.invokeFunction(\n",
              "            'suggestCharts', [key], {});\n",
              "      } catch (error) {\n",
              "        console.error('Error during call to suggestCharts:', error);\n",
              "      }\n",
              "      quickchartButtonEl.classList.remove('colab-df-spinner');\n",
              "      quickchartButtonEl.classList.add('colab-df-quickchart-complete');\n",
              "    }\n",
              "    (() => {\n",
              "      let quickchartButtonEl =\n",
              "        document.querySelector('#df-77d417c1-20f2-4660-9764-73f0a1901fe3 button');\n",
              "      quickchartButtonEl.style.display =\n",
              "        google.colab.kernel.accessAllowed ? 'block' : 'none';\n",
              "    })();\n",
              "  </script>\n",
              "</div>\n",
              "\n",
              "    </div>\n",
              "  </div>\n"
            ],
            "application/vnd.google.colaboratory.intrinsic+json": {
              "type": "dataframe",
              "variable_name": "data"
            }
          },
          "metadata": {},
          "execution_count": 4
        }
      ]
    },
    {
      "cell_type": "code",
      "source": [
        "data.shape"
      ],
      "metadata": {
        "colab": {
          "base_uri": "https://localhost:8080/"
        },
        "id": "L39ZM3no16H9",
        "outputId": "cbe7ece6-628b-4520-ce3d-68f489cfa837"
      },
      "execution_count": 5,
      "outputs": [
        {
          "output_type": "execute_result",
          "data": {
            "text/plain": [
              "(2000, 21)"
            ]
          },
          "metadata": {},
          "execution_count": 5
        }
      ]
    },
    {
      "cell_type": "code",
      "source": [
        "data['price_range'].value_counts()"
      ],
      "metadata": {
        "colab": {
          "base_uri": "https://localhost:8080/"
        },
        "id": "VEc-Nk0s1_zp",
        "outputId": "40e0d046-03c3-44a7-9c85-45081ebc3cbb"
      },
      "execution_count": 6,
      "outputs": [
        {
          "output_type": "execute_result",
          "data": {
            "text/plain": [
              "1    500\n",
              "2    500\n",
              "3    500\n",
              "0    500\n",
              "Name: price_range, dtype: int64"
            ]
          },
          "metadata": {},
          "execution_count": 6
        }
      ]
    },
    {
      "cell_type": "code",
      "source": [
        "data.dtypes"
      ],
      "metadata": {
        "colab": {
          "base_uri": "https://localhost:8080/"
        },
        "id": "0OSQwFoa2KAT",
        "outputId": "1fe38ba1-ea9b-44b5-f943-db11e63cd467"
      },
      "execution_count": 7,
      "outputs": [
        {
          "output_type": "execute_result",
          "data": {
            "text/plain": [
              "battery_power       int64\n",
              "bluetooth           int64\n",
              "clock_speed       float64\n",
              "dual_sim            int64\n",
              "front_cam           int64\n",
              "4G                  int64\n",
              "int_memory          int64\n",
              "m_dep             float64\n",
              "mobile_wt           int64\n",
              "n_cores             int64\n",
              "primary_camera      int64\n",
              "px_height           int64\n",
              "px_width            int64\n",
              "ram                 int64\n",
              "sc_h                int64\n",
              "sc_w                int64\n",
              "talk_time           int64\n",
              "three_g             int64\n",
              "touch_screen        int64\n",
              "wifi                int64\n",
              "price_range         int64\n",
              "dtype: object"
            ]
          },
          "metadata": {},
          "execution_count": 7
        }
      ]
    },
    {
      "cell_type": "code",
      "source": [
        "data['price_range'].nunique()"
      ],
      "metadata": {
        "colab": {
          "base_uri": "https://localhost:8080/"
        },
        "id": "niDTQNdu2Pi0",
        "outputId": "6d5a1ef0-c6d8-49b2-ba36-1854e6522f67"
      },
      "execution_count": 8,
      "outputs": [
        {
          "output_type": "execute_result",
          "data": {
            "text/plain": [
              "4"
            ]
          },
          "metadata": {},
          "execution_count": 8
        }
      ]
    },
    {
      "cell_type": "markdown",
      "source": [
        "Preprocess the data by scaling features and encoding labels"
      ],
      "metadata": {
        "id": "9V57Q2Be2a54"
      }
    },
    {
      "cell_type": "code",
      "source": [
        "X = data.drop('price_range', axis=1)\n",
        "y = data['price_range']"
      ],
      "metadata": {
        "id": "jPZIFKBw2Z5V"
      },
      "execution_count": 9,
      "outputs": []
    },
    {
      "cell_type": "code",
      "source": [
        "scaler = StandardScaler()\n",
        "X_scaled = scaler.fit_transform(X)"
      ],
      "metadata": {
        "id": "cK0VMyZN2iY8"
      },
      "execution_count": 10,
      "outputs": []
    },
    {
      "cell_type": "code",
      "source": [
        "encoder = LabelEncoder()\n",
        "y_encoded = encoder.fit_transform(y)"
      ],
      "metadata": {
        "id": "ubT58BtH2rEE"
      },
      "execution_count": 11,
      "outputs": []
    },
    {
      "cell_type": "markdown",
      "source": [
        "Split the data into training and testing sets"
      ],
      "metadata": {
        "id": "RymGtI8D2y3-"
      }
    },
    {
      "cell_type": "code",
      "source": [
        "X_train, X_test, y_train, y_test = train_test_split(X_scaled, y_encoded, test_size=0.2, random_state=42)"
      ],
      "metadata": {
        "id": "l0DLQI952wqk"
      },
      "execution_count": 12,
      "outputs": []
    },
    {
      "cell_type": "markdown",
      "source": [
        "creating the model"
      ],
      "metadata": {
        "id": "jvdkZ3rz3EiR"
      }
    },
    {
      "cell_type": "code",
      "source": [
        "def create_model(optimizer='adam', activation='relu', neurons=64):\n",
        "    model = Sequential()\n",
        "    model.add(Dense(neurons, input_dim=X_train.shape[1], activation=activation))\n",
        "    model.add(Dense(neurons, activation=activation))\n",
        "    model.add(Dense(4, activation='softmax'))\n",
        "    model.compile(loss='sparse_categorical_crossentropy', optimizer=optimizer, metrics=['accuracy'])\n",
        "    return model"
      ],
      "metadata": {
        "id": "5MSRHRld3AQE"
      },
      "execution_count": 13,
      "outputs": []
    },
    {
      "cell_type": "markdown",
      "source": [
        "Create KerasClassifier"
      ],
      "metadata": {
        "id": "pIYbiRFE3mAs"
      }
    },
    {
      "cell_type": "code",
      "source": [
        "!pip install scikeras\n",
        "from scikeras.wrappers import KerasClassifier"
      ],
      "metadata": {
        "colab": {
          "base_uri": "https://localhost:8080/"
        },
        "id": "TpdUM2HT3J0m",
        "outputId": "2c940b34-2baf-4779-900f-c10d4a170f4f"
      },
      "execution_count": 15,
      "outputs": [
        {
          "output_type": "stream",
          "name": "stdout",
          "text": [
            "Collecting scikeras\n",
            "  Downloading scikeras-0.12.0-py3-none-any.whl (27 kB)\n",
            "Requirement already satisfied: packaging>=0.21 in /usr/local/lib/python3.10/dist-packages (from scikeras) (24.0)\n",
            "Requirement already satisfied: scikit-learn>=1.0.0 in /usr/local/lib/python3.10/dist-packages (from scikeras) (1.2.2)\n",
            "Requirement already satisfied: numpy>=1.17.3 in /usr/local/lib/python3.10/dist-packages (from scikit-learn>=1.0.0->scikeras) (1.25.2)\n",
            "Requirement already satisfied: scipy>=1.3.2 in /usr/local/lib/python3.10/dist-packages (from scikit-learn>=1.0.0->scikeras) (1.11.4)\n",
            "Requirement already satisfied: joblib>=1.1.1 in /usr/local/lib/python3.10/dist-packages (from scikit-learn>=1.0.0->scikeras) (1.3.2)\n",
            "Requirement already satisfied: threadpoolctl>=2.0.0 in /usr/local/lib/python3.10/dist-packages (from scikit-learn>=1.0.0->scikeras) (3.4.0)\n",
            "Installing collected packages: scikeras\n",
            "Successfully installed scikeras-0.12.0\n"
          ]
        }
      ]
    },
    {
      "cell_type": "code",
      "source": [
        "model = KerasClassifier(build_fn=create_model, verbose=0)"
      ],
      "metadata": {
        "id": "PDEDWu3V3p0w"
      },
      "execution_count": 16,
      "outputs": []
    },
    {
      "cell_type": "markdown",
      "source": [
        "Grid Search"
      ],
      "metadata": {
        "id": "aI5LUSjd3yt8"
      }
    },
    {
      "cell_type": "code",
      "source": [
        "optimizer = ['SGD','Adam','Adamax','Nadam']\n",
        "epochs = [10,20,30]\n",
        "learn_rate = [0.001,0.01,0.1,0.2,0.3]\n",
        "\n",
        "param_grid = dict(model__optimizer = optimizer, optimizer__learning_rate=learn_rate,epochs=epochs)\n",
        "param_grid"
      ],
      "metadata": {
        "colab": {
          "base_uri": "https://localhost:8080/"
        },
        "id": "D5oKS77p3vwo",
        "outputId": "e5f7cbfa-91bc-4b3b-f018-80a039dd78ab"
      },
      "execution_count": 21,
      "outputs": [
        {
          "output_type": "execute_result",
          "data": {
            "text/plain": [
              "{'model__optimizer': ['SGD', 'Adam', 'Adamax', 'Nadam'],\n",
              " 'optimizer__learning_rate': [0.001, 0.01, 0.1, 0.2, 0.3],\n",
              " 'epochs': [10, 20, 30]}"
            ]
          },
          "metadata": {},
          "execution_count": 21
        }
      ]
    },
    {
      "cell_type": "code",
      "source": [
        "from sklearn.model_selection import GridSearchCV\n",
        "grid = GridSearchCV(estimator=model, param_grid=param_grid, n_jobs=-1, cv=3)\n",
        "grid_result = grid.fit(X_train, y_train)"
      ],
      "metadata": {
        "colab": {
          "base_uri": "https://localhost:8080/"
        },
        "id": "nlDdwbqD36Hq",
        "outputId": "5d9a08a1-632a-4bb0-be0f-442a7c289f64"
      },
      "execution_count": 22,
      "outputs": [
        {
          "output_type": "stream",
          "name": "stderr",
          "text": [
            "/usr/local/lib/python3.10/dist-packages/joblib/externals/loky/process_executor.py:752: UserWarning: A worker stopped while some jobs were given to the executor. This can be caused by a too short worker timeout or by a memory leak.\n",
            "  warnings.warn(\n",
            "/usr/local/lib/python3.10/dist-packages/scikeras/wrappers.py:915: UserWarning: ``build_fn`` will be renamed to ``model`` in a future release, at which point use of ``build_fn`` will raise an Error instead.\n",
            "  X, y = self._initialize(X, y)\n"
          ]
        }
      ]
    },
    {
      "cell_type": "code",
      "source": [
        "print(\"Best: %f using %s\" % (grid_result.best_score_, grid_result.best_params_))\n",
        "means = grid_result.cv_results_['mean_test_score']\n",
        "stds = grid_result.cv_results_['std_test_score']\n",
        "params = grid_result.cv_results_['params']\n",
        "for mean, stdev, param in zip(means, stds, params):\n",
        "    print(\"%f (%f) with: %r\" % (mean, stdev, param))"
      ],
      "metadata": {
        "colab": {
          "base_uri": "https://localhost:8080/"
        },
        "id": "0BroxT0k4qiL",
        "outputId": "00ecd453-dbe3-43c3-9490-be15eef65a23"
      },
      "execution_count": 23,
      "outputs": [
        {
          "output_type": "stream",
          "name": "stdout",
          "text": [
            "Best: 0.912498 using {'epochs': 30, 'model__optimizer': 'Nadam', 'optimizer__learning_rate': 0.001}\n",
            "0.603724 (0.029951) with: {'epochs': 10, 'model__optimizer': 'SGD', 'optimizer__learning_rate': 0.001}\n",
            "0.556866 (0.020978) with: {'epochs': 10, 'model__optimizer': 'SGD', 'optimizer__learning_rate': 0.01}\n",
            "0.598103 (0.024754) with: {'epochs': 10, 'model__optimizer': 'SGD', 'optimizer__learning_rate': 0.1}\n",
            "0.591856 (0.028507) with: {'epochs': 10, 'model__optimizer': 'SGD', 'optimizer__learning_rate': 0.2}\n",
            "0.567518 (0.037845) with: {'epochs': 10, 'model__optimizer': 'SGD', 'optimizer__learning_rate': 0.3}\n",
            "0.866260 (0.012912) with: {'epochs': 10, 'model__optimizer': 'Adam', 'optimizer__learning_rate': 0.001}\n",
            "0.873128 (0.006134) with: {'epochs': 10, 'model__optimizer': 'Adam', 'optimizer__learning_rate': 0.01}\n",
            "0.874999 (0.000994) with: {'epochs': 10, 'model__optimizer': 'Adam', 'optimizer__learning_rate': 0.1}\n",
            "0.896883 (0.010634) with: {'epochs': 10, 'model__optimizer': 'Adam', 'optimizer__learning_rate': 0.2}\n",
            "0.884372 (0.003635) with: {'epochs': 10, 'model__optimizer': 'Adam', 'optimizer__learning_rate': 0.3}\n",
            "0.763744 (0.044190) with: {'epochs': 10, 'model__optimizer': 'Adamax', 'optimizer__learning_rate': 0.001}\n",
            "0.696868 (0.009445) with: {'epochs': 10, 'model__optimizer': 'Adamax', 'optimizer__learning_rate': 0.01}\n",
            "0.756881 (0.014041) with: {'epochs': 10, 'model__optimizer': 'Adamax', 'optimizer__learning_rate': 0.1}\n",
            "0.726245 (0.012071) with: {'epochs': 10, 'model__optimizer': 'Adamax', 'optimizer__learning_rate': 0.2}\n",
            "0.718127 (0.004302) with: {'epochs': 10, 'model__optimizer': 'Adamax', 'optimizer__learning_rate': 0.3}\n",
            "0.876250 (0.006129) with: {'epochs': 10, 'model__optimizer': 'Nadam', 'optimizer__learning_rate': 0.001}\n",
            "0.886247 (0.005859) with: {'epochs': 10, 'model__optimizer': 'Nadam', 'optimizer__learning_rate': 0.01}\n",
            "0.898128 (0.012730) with: {'epochs': 10, 'model__optimizer': 'Nadam', 'optimizer__learning_rate': 0.1}\n",
            "0.878741 (0.010519) with: {'epochs': 10, 'model__optimizer': 'Nadam', 'optimizer__learning_rate': 0.2}\n",
            "0.886873 (0.004960) with: {'epochs': 10, 'model__optimizer': 'Nadam', 'optimizer__learning_rate': 0.3}\n",
            "0.750634 (0.013864) with: {'epochs': 20, 'model__optimizer': 'SGD', 'optimizer__learning_rate': 0.001}\n",
            "0.745612 (0.015611) with: {'epochs': 20, 'model__optimizer': 'SGD', 'optimizer__learning_rate': 0.01}\n",
            "0.744359 (0.022588) with: {'epochs': 20, 'model__optimizer': 'SGD', 'optimizer__learning_rate': 0.1}\n",
            "0.735628 (0.034670) with: {'epochs': 20, 'model__optimizer': 'SGD', 'optimizer__learning_rate': 0.2}\n",
            "0.742478 (0.025470) with: {'epochs': 20, 'model__optimizer': 'SGD', 'optimizer__learning_rate': 0.3}\n",
            "0.904368 (0.008179) with: {'epochs': 20, 'model__optimizer': 'Adam', 'optimizer__learning_rate': 0.001}\n",
            "0.904992 (0.011755) with: {'epochs': 20, 'model__optimizer': 'Adam', 'optimizer__learning_rate': 0.01}\n",
            "0.905616 (0.009800) with: {'epochs': 20, 'model__optimizer': 'Adam', 'optimizer__learning_rate': 0.1}\n",
            "0.899998 (0.009377) with: {'epochs': 20, 'model__optimizer': 'Adam', 'optimizer__learning_rate': 0.2}\n",
            "0.909373 (0.006400) with: {'epochs': 20, 'model__optimizer': 'Adam', 'optimizer__learning_rate': 0.3}\n",
            "0.868745 (0.006222) with: {'epochs': 20, 'model__optimizer': 'Adamax', 'optimizer__learning_rate': 0.001}\n",
            "0.870623 (0.009598) with: {'epochs': 20, 'model__optimizer': 'Adamax', 'optimizer__learning_rate': 0.01}\n",
            "0.859991 (0.015418) with: {'epochs': 20, 'model__optimizer': 'Adamax', 'optimizer__learning_rate': 0.1}\n",
            "0.856237 (0.014983) with: {'epochs': 20, 'model__optimizer': 'Adamax', 'optimizer__learning_rate': 0.2}\n",
            "0.856862 (0.017714) with: {'epochs': 20, 'model__optimizer': 'Adamax', 'optimizer__learning_rate': 0.3}\n",
            "0.898743 (0.009260) with: {'epochs': 20, 'model__optimizer': 'Nadam', 'optimizer__learning_rate': 0.001}\n",
            "0.905007 (0.008343) with: {'epochs': 20, 'model__optimizer': 'Nadam', 'optimizer__learning_rate': 0.01}\n",
            "0.903115 (0.011569) with: {'epochs': 20, 'model__optimizer': 'Nadam', 'optimizer__learning_rate': 0.1}\n",
            "0.898122 (0.004979) with: {'epochs': 20, 'model__optimizer': 'Nadam', 'optimizer__learning_rate': 0.2}\n",
            "0.906879 (0.010162) with: {'epochs': 20, 'model__optimizer': 'Nadam', 'optimizer__learning_rate': 0.3}\n",
            "0.820625 (0.016087) with: {'epochs': 30, 'model__optimizer': 'SGD', 'optimizer__learning_rate': 0.001}\n",
            "0.829996 (0.005510) with: {'epochs': 30, 'model__optimizer': 'SGD', 'optimizer__learning_rate': 0.01}\n",
            "0.826246 (0.005070) with: {'epochs': 30, 'model__optimizer': 'SGD', 'optimizer__learning_rate': 0.1}\n",
            "0.824981 (0.023963) with: {'epochs': 30, 'model__optimizer': 'SGD', 'optimizer__learning_rate': 0.2}\n",
            "0.831238 (0.024003) with: {'epochs': 30, 'model__optimizer': 'SGD', 'optimizer__learning_rate': 0.3}\n",
            "0.906873 (0.002415) with: {'epochs': 30, 'model__optimizer': 'Adam', 'optimizer__learning_rate': 0.001}\n",
            "0.902496 (0.004133) with: {'epochs': 30, 'model__optimizer': 'Adam', 'optimizer__learning_rate': 0.01}\n",
            "0.889999 (0.001819) with: {'epochs': 30, 'model__optimizer': 'Adam', 'optimizer__learning_rate': 0.1}\n",
            "0.906875 (0.011495) with: {'epochs': 30, 'model__optimizer': 'Adam', 'optimizer__learning_rate': 0.2}\n",
            "0.894377 (0.002249) with: {'epochs': 30, 'model__optimizer': 'Adam', 'optimizer__learning_rate': 0.3}\n",
            "0.887498 (0.008138) with: {'epochs': 30, 'model__optimizer': 'Adamax', 'optimizer__learning_rate': 0.001}\n",
            "0.900625 (0.013787) with: {'epochs': 30, 'model__optimizer': 'Adamax', 'optimizer__learning_rate': 0.01}\n",
            "0.897491 (0.010277) with: {'epochs': 30, 'model__optimizer': 'Adamax', 'optimizer__learning_rate': 0.1}\n",
            "0.889374 (0.005547) with: {'epochs': 30, 'model__optimizer': 'Adamax', 'optimizer__learning_rate': 0.2}\n",
            "0.886880 (0.006273) with: {'epochs': 30, 'model__optimizer': 'Adamax', 'optimizer__learning_rate': 0.3}\n",
            "0.912498 (0.008730) with: {'epochs': 30, 'model__optimizer': 'Nadam', 'optimizer__learning_rate': 0.001}\n",
            "0.902501 (0.004025) with: {'epochs': 30, 'model__optimizer': 'Nadam', 'optimizer__learning_rate': 0.01}\n",
            "0.898748 (0.002739) with: {'epochs': 30, 'model__optimizer': 'Nadam', 'optimizer__learning_rate': 0.1}\n",
            "0.902496 (0.008001) with: {'epochs': 30, 'model__optimizer': 'Nadam', 'optimizer__learning_rate': 0.2}\n",
            "0.905001 (0.002276) with: {'epochs': 30, 'model__optimizer': 'Nadam', 'optimizer__learning_rate': 0.3}\n"
          ]
        }
      ]
    },
    {
      "cell_type": "markdown",
      "source": [
        "Evaluate the model on the test set"
      ],
      "metadata": {
        "id": "XSP3D2824va7"
      }
    },
    {
      "cell_type": "code",
      "source": [
        "y_pred = grid.predict(X_test)\n",
        "print(classification_report(y_test, y_pred))"
      ],
      "metadata": {
        "colab": {
          "base_uri": "https://localhost:8080/"
        },
        "id": "INu0dHso4sCw",
        "outputId": "88ecd51a-cb99-4617-9ac6-cb7eb76af724"
      },
      "execution_count": 24,
      "outputs": [
        {
          "output_type": "stream",
          "name": "stdout",
          "text": [
            "              precision    recall  f1-score   support\n",
            "\n",
            "           0       0.95      0.95      0.95       105\n",
            "           1       0.90      0.91      0.91        91\n",
            "           2       0.91      0.89      0.90        92\n",
            "           3       0.95      0.96      0.95       112\n",
            "\n",
            "    accuracy                           0.93       400\n",
            "   macro avg       0.93      0.93      0.93       400\n",
            "weighted avg       0.93      0.93      0.93       400\n",
            "\n"
          ]
        }
      ]
    }
  ]
}